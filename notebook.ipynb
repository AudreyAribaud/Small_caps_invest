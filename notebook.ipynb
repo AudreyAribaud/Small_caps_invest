{
 "cells": [
  {
   "cell_type": "markdown",
   "id": "593db5a1",
   "metadata": {},
   "source": [
    "# Small Caps Invest"
   ]
  },
  {
   "cell_type": "markdown",
   "id": "13e4155d",
   "metadata": {},
   "source": [
    "## Enregistrement manuel des trades"
   ]
  },
  {
   "cell_type": "code",
   "execution_count": 10,
   "id": "4e879b9c",
   "metadata": {},
   "outputs": [
    {
     "name": "stdout",
     "output_type": "stream",
     "text": [
      "         date ticker  quantite  prix  montant  total_compte  montant_invest\n",
      "0  2025-06-06   MBOT       6.0   3.4     20.4          20.4           100.0\n",
      "1  2025-06-06   PESI      11.0   2.3     25.3          45.7           100.0\n",
      "2  2025-06-08      F       2.0  11.4     22.8          68.5           100.0\n",
      "3  2025-06-08   MBOT      -3.0   3.1     -9.3          59.2           100.0\n"
     ]
    }
   ],
   "source": [
    "# Enregistrer un achat ou une vente \n",
    "\n",
    "import os\n",
    "import pandas as pd\n",
    "from datetime import datetime\n",
    "\n",
    "csv_file = \"transactions.csv\"\n",
    "\n",
    "# Vérifier si le fichier n'existe pas ou s'il est vide pour créer les en-têtes\n",
    "if not os.path.exists(csv_file) or os.path.getsize(csv_file) == 0:\n",
    "    headers = \"date,ticker,quantite,prix,montant,total_compte,montant_invest\\n\"\n",
    "    with open(csv_file, \"w\") as f:\n",
    "        f.write(headers)\n",
    "\n",
    "# demande les détails de la transaction à l'utilisateur\n",
    "invest = float(input(\"Entrer un montant investi (ou 0 si aucun) : \"))\n",
    "ticker = input(\"Entrer le ticker de l'action : \")\n",
    "quantite = float(int(input(\"Entrer la quantité achetée (positif) ou vendue (négatif) : \")))\n",
    "prix = float(input(\"Entrer le prix unitaire de l'action : \"))\n",
    "date = input(\"Entrer la date de la transaction (YYYY-MM-DD) : \")\n",
    "date = datetime.strptime(date, \"%Y-%m-%d\").date() #convertir en format date\n",
    "montant = quantite * prix\n",
    "\n",
    "# Calcul du total_compte et PnL\n",
    "df = pd.read_csv(csv_file)\n",
    "if len(df) > 0:\n",
    "    total_compte = montant + df.iloc[-1][\"total_compte\"]\n",
    "    montant_invest = invest + df.iloc[-1][\"montant_invest\"]\n",
    "else:\n",
    "    total_compte = montant\n",
    "    montant_invest = invest\n",
    "\n",
    "# Enregistrer l'achat ou la vente dans le fichier CSV   \n",
    "with open(\"transactions.csv\", \"a\") as f:\n",
    "    f.write(f\"{date.isoformat()},{ticker},{quantite},{prix},{montant},{total_compte},{montant_invest}\\n\")\n",
    "\n",
    "# Afficher le contenu du fichier CSV\n",
    "df = pd.read_csv(\"transactions.csv\")\n",
    "print(df.head())\n"
   ]
  },
  {
   "cell_type": "code",
   "execution_count": null,
   "id": "5690bb0b",
   "metadata": {},
   "outputs": [],
   "source": [
    "# ou ajout d'une ligne TOTAL"
   ]
  },
  {
   "cell_type": "code",
   "execution_count": null,
   "id": "74bfefac",
   "metadata": {},
   "outputs": [],
   "source": [
    "# mise à jour du portefeuille et du PnL\n",
    "\n",
    "csv_file = \"portfolio.csv\"\n",
    "\n",
    "# Vérifier si le fichier n'existe pas ou s'il est vide pour créer les en-têtes\n",
    "if not os.path.exists(csv_file) or os.path.getsize(csv_file) == 0:\n",
    "    headers = \"date,ticker,quantite,prix,montant,total_compte,montant_invest\\n\"\n",
    "    with open(csv_file, \"w\") as f:\n",
    "        f.write(headers)\n",
    "\n",
    "# avec les données renseignées mettre à jour le portefeuille\n",
    "# TOTAL des positions\n",
    "# valeur du portefeuille et PnL\n",
    "\n",
    "#\n",
    "\n",
    "# Calculer pour aujourd'hui le récap des positions et le PnL\n",
    "# Calculer aussi si montant_invest était dans le S&P500\n",
    "\n",
    "\n",
    "\n"
   ]
  },
  {
   "cell_type": "code",
   "execution_count": null,
   "id": "7f0be87e",
   "metadata": {},
   "outputs": [],
   "source": [
    "# Trace le graphique PnL avec comparatif S&P500\n",
    "import matplotlib.pyplot as plt\n",
    "import yfinance as yf   \n",
    "import pandas as pd \n",
    "\n",
    "df = pd.read_csv(\"transactions.csv\")    "
   ]
  }
 ],
 "metadata": {
  "kernelspec": {
   "display_name": "chatgpt_microcap",
   "language": "python",
   "name": "python3"
  },
  "language_info": {
   "codemirror_mode": {
    "name": "ipython",
    "version": 3
   },
   "file_extension": ".py",
   "mimetype": "text/x-python",
   "name": "python",
   "nbconvert_exporter": "python",
   "pygments_lexer": "ipython3",
   "version": "3.12.11"
  }
 },
 "nbformat": 4,
 "nbformat_minor": 5
}
